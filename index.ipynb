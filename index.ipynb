{
 "cells": [
  {
   "cell_type": "markdown",
   "id": "identical-exclusion",
   "metadata": {},
   "source": [
    "# Signing up for Redshift"
   ]
  },
  {
   "cell_type": "markdown",
   "id": "vocal-coach",
   "metadata": {},
   "source": [
    "### Introduction"
   ]
  },
  {
   "cell_type": "markdown",
   "id": "fluid-buddy",
   "metadata": {},
   "source": [
    "In this lesson, we'll walk through the process of signing up for Amazon Redshift.  Redshift gives us a number of advantages in working with our analytics database.  We'll get into them in future lessons.  For now, let's begin the signup process."
   ]
  },
  {
   "cell_type": "markdown",
   "id": "mysterious-bicycle",
   "metadata": {},
   "source": [
    "### Data Flow and AWS Roles"
   ]
  },
  {
   "cell_type": "markdown",
   "id": "applicable-health",
   "metadata": {},
   "source": [
    "As we know with redshift we'll copy data from an OLTP like AWS RDS and store that data in CSV files on S3, which can store various text files.  Then, we'll copy the data from S3 over to Redshift.  We'll do this from an \n",
    "\n",
    "So to perform these actions, we'll need to create a security group for redshift, that gives redshift access to read from S3.  "
   ]
  },
  {
   "cell_type": "markdown",
   "id": "vocational-synthesis",
   "metadata": {},
   "source": [
    "> <img src=\"./s3_redshift.jpg\" width=\"50%\">"
   ]
  },
  {
   "cell_type": "markdown",
   "id": "cubic-observer",
   "metadata": {},
   "source": [
    "So our first step is to create a role with these permissions.  Let's do it."
   ]
  },
  {
   "cell_type": "markdown",
   "id": "instrumental-russian",
   "metadata": {},
   "source": [
    "1. Go to the AWS IAM console by [clicking here](https://console.aws.amazon.com/iam/home).\n",
    "2. Then on the dashboard to the left, click on the `Roles` link, and then click on the blue `Create Role` button.\n",
    "\n",
    "> <img src=\"./create_role.png\" width=\"60%\">"
   ]
  },
  {
   "cell_type": "markdown",
   "id": "pharmaceutical-journalist",
   "metadata": {},
   "source": [
    "3. Next, under `AWS Service - Choose a Use Case`, select Redshift, over to the right. "
   ]
  },
  {
   "cell_type": "markdown",
   "id": "twelve-alcohol",
   "metadata": {},
   "source": [
    "> <img src=\"./redshift_service.png\" width=\"90%\">"
   ]
  },
  {
   "cell_type": "markdown",
   "id": "private-virgin",
   "metadata": {},
   "source": [
    "4. Then follow this with `Redshift - Customizable`, and then click `Next Permissions`."
   ]
  },
  {
   "cell_type": "markdown",
   "id": "activated-korea",
   "metadata": {},
   "source": [
    "> <img src=\"./redshift_custom.png\" width=\"60%\">"
   ]
  },
  {
   "cell_type": "markdown",
   "id": "acknowledged-shepherd",
   "metadata": {},
   "source": [
    "As the description mentions, this use case is to allow redshift to call AWS services.  The service we'll ultimately want to access is S3."
   ]
  },
  {
   "cell_type": "markdown",
   "id": "little-transportation",
   "metadata": {},
   "source": [
    "5. So then in the next step select `AmazonS3ReadOnlyAccess`, and click `Next Tags`."
   ]
  },
  {
   "cell_type": "markdown",
   "id": "incredible-bumper",
   "metadata": {},
   "source": [
    "> <img src=\"./s3_readonly.png\" width=\"60%\">"
   ]
  },
  {
   "cell_type": "markdown",
   "id": "fuzzy-playback",
   "metadata": {},
   "source": [
    "6. Here, we can proceed to the next step of `Review`.  There, add a role name of `redshiftRole`, and check that you see something like the following:"
   ]
  },
  {
   "cell_type": "markdown",
   "id": "laughing-brass",
   "metadata": {},
   "source": [
    "> <img src=\"./redshiftRole.png\" width=\"80%\">"
   ]
  },
  {
   "cell_type": "markdown",
   "id": "corrected-bryan",
   "metadata": {},
   "source": [
    "### Create a Security Group"
   ]
  },
  {
   "cell_type": "markdown",
   "id": "necessary-prison",
   "metadata": {},
   "source": [
    "Now that we have created the role that allows redshift access S3, we'll need create a new security group that allows an outside computer (like our laptop) to access redshift.  So just like we allowed any computer to access an EC2 machine, here we'll do something similar in redshift.  Let's do it. "
   ]
  },
  {
   "cell_type": "markdown",
   "id": "descending-federal",
   "metadata": {},
   "source": [
    "We access the security group from the VPC service.  So type `VPC` into the AWS console search bar, click on the link.  Then on the VPC dashboard, on the panel to the left find the heading `Security` and click on the link for `Security Groups`.  "
   ]
  },
  {
   "cell_type": "markdown",
   "id": "developmental-vegetable",
   "metadata": {},
   "source": [
    "> <img src=\"./security-group-panel.png\" width=\"20%\">"
   ]
  },
  {
   "cell_type": "markdown",
   "id": "quiet-posting",
   "metadata": {},
   "source": [
    "Then click on the orange button that says `Create Security Group`.  Here, we'll enter in the following information:"
   ]
  },
  {
   "cell_type": "markdown",
   "id": "determined-frost",
   "metadata": {},
   "source": [
    "> <img src=\"./redshift_cluster_access.png\" width=\"60%\">"
   ]
  },
  {
   "cell_type": "markdown",
   "id": "organized-valuation",
   "metadata": {},
   "source": [
    "So we (1) named our `Security group` `redshift_security_group`, have a description of `redshift cluster access`, and then under the inbound rules we set port range to `5439` and source as Custom with allowing access from any computer `0.0.0.0/0`.  \n",
    "\n",
    "> We'll restrict our access to redshift later on.  But this is fine, to start."
   ]
  },
  {
   "cell_type": "markdown",
   "id": "light-peace",
   "metadata": {},
   "source": [
    "### Creating a Redshift Cluster"
   ]
  },
  {
   "cell_type": "markdown",
   "id": "turkish-canberra",
   "metadata": {},
   "source": [
    "Ok, now that we have created a role that allows redshift to access S3, and a security group that allows our laptop to access redshift, it's time to create our redshift cluster."
   ]
  },
  {
   "cell_type": "markdown",
   "id": "recognized-stockholm",
   "metadata": {},
   "source": [
    "1. We can create our cluster by going to the [AWS redshift page](https://console.aws.amazon.com/redshift).\n",
    "\n",
    "2. Then from the left panel, click on `Clusters`, followed by `Launch Cluster` - the blue button to the right."
   ]
  },
  {
   "cell_type": "markdown",
   "id": "polished-transition",
   "metadata": {},
   "source": [
    "> <img src='./launch_cluster.png' width=\"60%\">"
   ]
  },
  {
   "cell_type": "markdown",
   "id": "narrow-sequence",
   "metadata": {},
   "source": [
    "3. Fill in cluster details"
   ]
  },
  {
   "cell_type": "markdown",
   "id": "governing-macintosh",
   "metadata": {},
   "source": [
    "> <img src=\"./redshift-launch.png\" width=\"80%\">"
   ]
  },
  {
   "cell_type": "markdown",
   "id": "verbal-operation",
   "metadata": {},
   "source": [
    "From here, we are taken to the cluster details page.  Fill in the information as seen above, with the master password that you can login with.  \n",
    "\n",
    "> Write down the password somewhere so you do not forget."
   ]
  },
  {
   "cell_type": "markdown",
   "id": "impossible-article",
   "metadata": {},
   "source": [
    "Next, use the default settings for nodes, and click `Continue`."
   ]
  },
  {
   "cell_type": "markdown",
   "id": "patent-breathing",
   "metadata": {},
   "source": [
    "> <img src=\"./nodes.png\" width='60%'>"
   ]
  },
  {
   "cell_type": "markdown",
   "id": "focal-creativity",
   "metadata": {},
   "source": [
    "And then on `Advanced Settings` in the next page, we'll connect our security group and role."
   ]
  },
  {
   "cell_type": "markdown",
   "id": "confused-andorra",
   "metadata": {},
   "source": [
    "> Choose our `redshift_security_group` under VPC security groups, and choose `redshiftRole` for the IAM roles."
   ]
  },
  {
   "cell_type": "markdown",
   "id": "complete-china",
   "metadata": {},
   "source": [
    "<img src=\"./security-grps.png\" width=\"60%\">"
   ]
  },
  {
   "cell_type": "markdown",
   "id": "military-immunology",
   "metadata": {},
   "source": [
    "Then click continue. We are taken to the review page, where we can check the following:"
   ]
  },
  {
   "cell_type": "markdown",
   "id": "rational-blocking",
   "metadata": {},
   "source": [
    "> <img src=\"./cluster-review.png\" width=\"60%\">"
   ]
  },
  {
   "cell_type": "markdown",
   "id": "mobile-office",
   "metadata": {},
   "source": [
    "Finally, click `Launch Cluster`, and then click on `clusters`.  We should see our cluster listed there."
   ]
  },
  {
   "cell_type": "markdown",
   "id": "creative-stereo",
   "metadata": {},
   "source": [
    "<img src=\"./clusters.png\" width=\"80%\">"
   ]
  },
  {
   "cell_type": "markdown",
   "id": "elect-conditioning",
   "metadata": {},
   "source": [
    "### Summary\n",
    "\n",
    "\n",
    "In this lesson, we signed up for Redshift, and setup access for redshift to read from S3, as well as enabling a security group that granted public access to the redshift cluster.  Then we created our redshift cluster, and attached the security group that enabled public access, and attached the `redshiftRole` that enables our cluster to read from S3."
   ]
  },
  {
   "cell_type": "markdown",
   "id": "french-representation",
   "metadata": {},
   "source": [
    "### Resources"
   ]
  },
  {
   "cell_type": "markdown",
   "id": "requested-supplier",
   "metadata": {},
   "source": [
    "[AWS Storage S3](https://shravan-kuchkula.github.io/cloud/aws-storage-s3/)"
   ]
  }
 ],
 "metadata": {
  "kernelspec": {
   "display_name": "Python 3",
   "language": "python",
   "name": "python3"
  },
  "language_info": {
   "codemirror_mode": {
    "name": "ipython",
    "version": 3
   },
   "file_extension": ".py",
   "mimetype": "text/x-python",
   "name": "python",
   "nbconvert_exporter": "python",
   "pygments_lexer": "ipython3",
   "version": "3.8.6"
  }
 },
 "nbformat": 4,
 "nbformat_minor": 5
}
